{
    "cells": [
        {
            "cell_type": "markdown",
            "metadata": {
                "collapsed": true
            },
            "source": "# 1. Introduction\n\nFor this report, I will analyze the area cluster between two major metropolitans in Southeast Asia that is Jakarta - Indonesia, and Kuala Lumpur - Malaysia. Jakarta and Kuala Lumpur are both very populated metropolitan regions in Southeast Asia. Although Jakarta approximately has 4.5 times more population than Kuala Lumpur, Kuala Lumpur has it's own unique places, venues, and landmarks to go to.\n\n# 2. Business Problem\n\nThe aim of this report is to help new business owners to open new restaurants or other business venues around the neighborhood depending on the characteristic of the neighborhood and what it has to offer. Once the data is obtained, the cluster and segmentation between those two neighborhoods are created to see which neighborhood has the same similarity based on the venues and places. This also could help people to make decisions if they want to migrate or move into another neighborhood."
        },
        {
            "cell_type": "code",
            "execution_count": 2,
            "metadata": {},
            "outputs": [],
            "source": "# The code was removed by Watson Studio for sharing."
        },
        {
            "cell_type": "code",
            "execution_count": null,
            "metadata": {},
            "outputs": [],
            "source": ""
        }
    ],
    "metadata": {
        "kernelspec": {
            "display_name": "Python 3.7",
            "language": "python",
            "name": "python3"
        },
        "language_info": {
            "codemirror_mode": {
                "name": "ipython",
                "version": 3
            },
            "file_extension": ".py",
            "mimetype": "text/x-python",
            "name": "python",
            "nbconvert_exporter": "python",
            "pygments_lexer": "ipython3",
            "version": "3.7.9"
        }
    },
    "nbformat": 4,
    "nbformat_minor": 1
}